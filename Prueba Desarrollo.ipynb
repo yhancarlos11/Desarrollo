{
 "cells": [
  {
   "cell_type": "markdown",
   "id": "9285a2af",
   "metadata": {},
   "source": [
    "## Reto 1"
   ]
  },
  {
   "cell_type": "markdown",
   "id": "82d0f5b3",
   "metadata": {},
   "source": [
    "### Código"
   ]
  },
  {
   "cell_type": "code",
   "execution_count": 1,
   "id": "085c06a3",
   "metadata": {},
   "outputs": [],
   "source": [
    "def challenge_one(lista, S):\n",
    "    v = True  # Variable para rastrear si ningún dígito es mayor o igual a S\n",
    "\n",
    "    # Verificar si ningún dígito es mayor o igual a S\n",
    "    for i in lista:\n",
    "        if any(int(digito) >= S for digito in str(i)):\n",
    "            v = False\n",
    "            break\n",
    "            \n",
    "    if v:\n",
    "        # Invertir la lista e imprimir si ningún dígito es mayor o igual a S\n",
    "        listainv = []#variable para almacenar la lista invertida\n",
    "        for i in range(len(lista) - 1, -1, -1):\n",
    "            listainv.append(lista[i])\n",
    "        print(listainv)# mostrar en el caso en que solo se deba cambiar el orden\n",
    "        return\n",
    "\n",
    "    listainv = [] # va a ser la lista invertida cuando, hay digitos mayores o igual a S\n",
    "    for i in range(len(lista) - 1, -1, -1):\n",
    "        listainv.append(lista[i])  # Invertir la lista de entrada\n",
    "    \n",
    "    listafinal = []\n",
    "\n",
    "    for i in listainv:\n",
    "        lista_temporal = [] # lista que va almacenar los digitos menores que S\n",
    "        for digito in str(i):\n",
    "            if int(digito) < S:\n",
    "                lista_temporal.append(int(digito))\n",
    "\n",
    "        if lista_temporal:\n",
    "            listafinal.append(lista_temporal)\n",
    "\n",
    "    # Poner bonito el resultado\n",
    "    resultado_final = [digito for sublist in listafinal for digito in sublist]#quitar corchetes de las sublistas\n",
    "\n",
    "    print(resultado_final)\n",
    "\n"
   ]
  },
  {
   "cell_type": "markdown",
   "id": "0e020a2e",
   "metadata": {},
   "source": [
    "### Ejemplo"
   ]
  },
  {
   "cell_type": "code",
   "execution_count": 2,
   "id": "c81220e1",
   "metadata": {},
   "outputs": [
    {
     "name": "stdout",
     "output_type": "stream",
     "text": [
      "[1, 0]\n"
     ]
    }
   ],
   "source": [
    "# Ejemplo de uso:\n",
    "lista = [60, 6, 5, 4, 3, 2, 7, 7, 29, 1]\n",
    "S = 2\n",
    "challenge_one(lista, S)\n",
    "\n"
   ]
  },
  {
   "cell_type": "markdown",
   "id": "3af28a54",
   "metadata": {},
   "source": [
    "### Anexo"
   ]
  },
  {
   "cell_type": "markdown",
   "id": "cf75ed1a",
   "metadata": {},
   "source": [
    "Input para que el usuario ingrese el valor de S."
   ]
  },
  {
   "cell_type": "code",
   "execution_count": 3,
   "id": "5af49e92",
   "metadata": {},
   "outputs": [],
   "source": [
    "#S_u = int(input(\"Ingrese el valor de S: \")) # para entrada de usuario"
   ]
  },
  {
   "cell_type": "markdown",
   "id": "45cb9515",
   "metadata": {},
   "source": [
    "Input para que el usuario ingrese una lista específica."
   ]
  },
  {
   "cell_type": "code",
   "execution_count": 4,
   "id": "b2960513",
   "metadata": {},
   "outputs": [],
   "source": [
    "#Lista_u = []\n",
    "\n",
    "#while True:\n",
    "#    k = input(\"Ingrese el valor de tu elemento o 'fin' si ya terminaste tu lista :) : \")\n",
    "    \n",
    "#    if k == 'fin':\n",
    "#        break\n",
    "\n",
    "#    Lista_u.append(int(k))\n",
    "\n",
    "#print(\"Valores de la lista ingresados:\", Lista_u)"
   ]
  },
  {
   "cell_type": "code",
   "execution_count": 5,
   "id": "cb84aeab",
   "metadata": {},
   "outputs": [],
   "source": [
    "#challenge_one(Lista_u, S_u)"
   ]
  },
  {
   "cell_type": "markdown",
   "id": "5f7f5973",
   "metadata": {},
   "source": [
    "## Reto 2"
   ]
  },
  {
   "cell_type": "code",
   "execution_count": 6,
   "id": "2c1edaaa",
   "metadata": {},
   "outputs": [],
   "source": [
    "def Burbuja(k): #Metodo de la burbuja para ordenar de manera ascendente\n",
    "    n = len(k)\n",
    "    for i in range(n):\n",
    "        for j in range(0, n - i - 1):\n",
    "            if k[j] > k[j + 1]:\n",
    "                k[j], k[j + 1] = k[j + 1], k[j]\n",
    "\n",
    "\n",
    "def challenge_2(l, S):   # La variable l es la lista\n",
    "    n = len(l)\n",
    "    cuadrados = [0] * n\n",
    "\n",
    "    \n",
    "    for i in range(n):\n",
    "        cuadrados[i] = l[i] ** 2 #calculamos los cuadrados de los elementos\n",
    "\n",
    "    Burbuja(cuadrados) # invocamos la función de la burbuja\n",
    "\n",
    "    rango_limite = int(str(S) + str(S))  # Formar el número SS para el valor de S proporcionado\n",
    "    resultado = [x for x in cuadrados if 0 <= x <= rango_limite]  # Filtrar valores fuera del rango [0, SS]\n",
    "    return resultado\n",
    "\n",
    "\n"
   ]
  },
  {
   "cell_type": "markdown",
   "id": "21af3eb4",
   "metadata": {},
   "source": [
    "### Ejemplo"
   ]
  },
  {
   "cell_type": "code",
   "execution_count": 7,
   "id": "a851466b",
   "metadata": {},
   "outputs": [
    {
     "name": "stdout",
     "output_type": "stream",
     "text": [
      "[0, 1, 1, 4, 9, 16]\n"
     ]
    }
   ],
   "source": [
    "# Ejemplo:\n",
    "S = 2\n",
    "Lista = [-4, -2, -1, 0, 1, 3, 5, 6, 7]\n",
    "m = challenge_2(Lista, S)\n",
    "print(m)\n"
   ]
  },
  {
   "cell_type": "markdown",
   "id": "7143670b",
   "metadata": {},
   "source": [
    "### Anexo"
   ]
  },
  {
   "cell_type": "markdown",
   "id": "cd2c0b2b",
   "metadata": {},
   "source": [
    "Input para que el usuario ingrese el valor de S."
   ]
  },
  {
   "cell_type": "code",
   "execution_count": 8,
   "id": "ff094d8c",
   "metadata": {},
   "outputs": [],
   "source": [
    "\n",
    "#S_us = int(input(\"Ingrese el valor de S: \"))"
   ]
  },
  {
   "cell_type": "markdown",
   "id": "80c8f197",
   "metadata": {},
   "source": [
    "Input para que el usuario ingrese una lista específica."
   ]
  },
  {
   "cell_type": "code",
   "execution_count": 9,
   "id": "9bd7a0a7",
   "metadata": {},
   "outputs": [],
   "source": [
    "\n",
    "#Lista_us = []\n",
    "\n",
    "#while True:\n",
    "#    r = input(\"Ingrese el valor de tu elemento o 'fin' si ya terminaste tu lista :) : \")\n",
    "    \n",
    "#    if r == 'fin':\n",
    "#        break\n",
    "\n",
    "#    Lista_us.append(int(r))\n",
    "\n",
    "#print(\"Valores de la lista ingresados:\", Lista_us)\n",
    "#print(\"Los cuadrados de los elementos son: \")\n",
    "#g = challenge_2(Lista_us, S_us)\n",
    "#print(g)\n"
   ]
  },
  {
   "cell_type": "markdown",
   "id": "b7c549e4",
   "metadata": {},
   "source": [
    "## Reto 3"
   ]
  },
  {
   "cell_type": "code",
   "execution_count": 10,
   "id": "58fb6698",
   "metadata": {},
   "outputs": [],
   "source": [
    "def Burbuja(k): #Metodo de la burbuja para ordenar de manera ascendente\n",
    "    n = len(k)\n",
    "    for i in range(n):\n",
    "        for j in range(0, n - i - 1):\n",
    "            if k[j] > k[j + 1]:\n",
    "                k[j], k[j + 1] = k[j + 1], k[j]\n",
    "\n",
    "def La_contadora(coins):\n",
    "    coins.sort()  # Ordenar las monedas de menor a mayor\n",
    "    #Burbuja(coins)\n",
    "    cambio = 0  # Inicializar variable de cambio\n",
    "    \n",
    "    for moneda in coins:\n",
    "        # Verificar si podemos formar el cambio cambio + 1\n",
    "        if moneda > cambio + 1:\n",
    "            return cambio + 1\n",
    "        # Actualizar el cambio actual\n",
    "        cambio += moneda\n",
    "    \n",
    "    return cambio + 1\n",
    "\n"
   ]
  },
  {
   "cell_type": "markdown",
   "id": "5f67e5da",
   "metadata": {},
   "source": [
    "### Ejemplo"
   ]
  },
  {
   "cell_type": "code",
   "execution_count": 11,
   "id": "6ea95870",
   "metadata": {},
   "outputs": [
    {
     "name": "stdout",
     "output_type": "stream",
     "text": [
      "55\n"
     ]
    }
   ],
   "source": [
    "# Ejemplo:\n",
    "coins = [1, 5, 1, 1, 1, 10, 15, 20, 100] # monedas de diferentes valores\n",
    "Cambio_minimo = La_contadora(coins) # aplicamos nuestra función para calcular el valor minimo que no se puede dar de cambio :)\n",
    "print(Cambio_minimo)"
   ]
  },
  {
   "cell_type": "markdown",
   "id": "64951690",
   "metadata": {},
   "source": [
    "### Anexo"
   ]
  },
  {
   "cell_type": "code",
   "execution_count": 12,
   "id": "a39104ff",
   "metadata": {},
   "outputs": [],
   "source": [
    "#monedas = []\n",
    "\n",
    "#while True:\n",
    "#    moneda = input(\"Ingrese el valor de una moneda o 'fin' para terminar: \")\n",
    "    \n",
    "#    if moneda == 'fin':\n",
    "#        break\n",
    "\n",
    "#    monedas.append(int(moneda))\n",
    "\n",
    "#print(\"Valores de las monedas ingresados:\", monedas)\n"
   ]
  },
  {
   "cell_type": "code",
   "execution_count": 13,
   "id": "b0763a30",
   "metadata": {},
   "outputs": [],
   "source": [
    "#f=La_contadora(monedas)\n",
    "#print('Esta es su lista de monedas:')\n",
    "#print(monedas)\n",
    "#print('Este es el cambio mínimo que no podrá dar :( F bro:')\n",
    "#print(f)\n",
    "#print('¡Gracias por usar mi programa!')"
   ]
  }
 ],
 "metadata": {
  "kernelspec": {
   "display_name": "Python 3 (ipykernel)",
   "language": "python",
   "name": "python3"
  },
  "language_info": {
   "codemirror_mode": {
    "name": "ipython",
    "version": 3
   },
   "file_extension": ".py",
   "mimetype": "text/x-python",
   "name": "python",
   "nbconvert_exporter": "python",
   "pygments_lexer": "ipython3",
   "version": "3.11.3"
  }
 },
 "nbformat": 4,
 "nbformat_minor": 5
}
